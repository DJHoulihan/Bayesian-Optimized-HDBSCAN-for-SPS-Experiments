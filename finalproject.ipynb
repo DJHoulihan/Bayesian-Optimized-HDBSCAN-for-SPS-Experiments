{
 "cells": [
  {
   "cell_type": "code",
   "execution_count": 20,
   "metadata": {},
   "outputs": [],
   "source": [
    "import ROOT\n",
    "import glob\n",
    "import numpy as np\n",
    "import pandas as pd\n",
    "\n",
    "# standard system modules\n",
    "import os, sys\n",
    "\n",
    "# to plot pixelized images\n",
    "import imageio.v3 as im\n",
    "\n",
    "# to reimport Python modules\n",
    "import importlib\n",
    "\n",
    "# standard module for high-quality plots\n",
    "import matplotlib as mp\n",
    "import matplotlib.pyplot as plt\n",
    "%matplotlib inline\n",
    "\n",
    "# standard research-level machine learning toolkit from Meta (FKA: FaceBook)\n",
    "import torch\n",
    "import torch.nn as nn\n",
    "\n",
    "import roottotext\n",
    "\n",
    "# https://www.mathworks.com/help/vision/ug/object-detection-using-deep-learning.html"
   ]
  },
  {
   "cell_type": "markdown",
   "metadata": {},
   "source": [
    "# Preparing training and validation datasets\n",
    "1. Load datasets from each run.\n",
    "2. Convert data to PyTorch tensors and split into training, testing, and validation sets.\n",
    "3. Change shape of tensors from (N,H,W,C) to (N,C,H,W).\n",
    "4. Move them to computational device.\n",
    "\n"
   ]
  },
  {
   "cell_type": "code",
   "execution_count": 19,
   "metadata": {},
   "outputs": [],
   "source": [
    "def load_data(path):\n",
    "    runs = sorted(glob.glob(os.path.join(path, '*.txt')))\n",
    "    datalist = [np.loadtxt(run, unpack = False) for run in runs]\n",
    "    return datalist\n",
    "\n",
    "def get_particle_class(label):\n",
    "    \"\"\"Gets the class name for a given label.\n",
    "    \n",
    "    Arguments:\n",
    "        label (int): The integer target label.\n",
    "        \n",
    "    Returns:\n",
    "        The name of the class that corresponds to the given label.\n",
    "    \"\"\"\n",
    "    return ['deuteron','triton','other'][label]\n",
    "\n",
    "\n",
    "SLABlist = load_data(path = './SLABtxt/7.3kG/')"
   ]
  },
  {
   "cell_type": "code",
   "execution_count": 17,
   "metadata": {},
   "outputs": [
    {
     "data": {
      "text/plain": [
       "(40681, 2)"
      ]
     },
     "execution_count": 17,
     "metadata": {},
     "output_type": "execute_result"
    }
   ],
   "source": [
    "n_train = 5 # number of histograms for training set\n",
    "n_test = 5 # number of histograms for testing set\n",
    "n_valid = len(SLABlist) - n_train - n_test # number of histograms for validation set\n",
    "\n",
    "print(\"number of histograms for training:   %10d\" % n_train)\n",
    "print(\"number of histograms for testing:    %10d\" % n_test)\n",
    "print(\"number of histograms for validation: %10d\" % n_valid)\n",
    "\n",
    "# split and convert to tensors\n",
    "\n",
    "train_x, X = torch.Tensor(SLABlist[:n_train]), SLABlist[n_train:]\n",
    "train_y, Y = torch.tensor(SLABlist[:n_train], dtype=int), SLABlist[n_train:]\n",
    "\n",
    "test_x, valid_x = torch.Tensor(X[:n_test]), torch.Tensor(X[n_test:])\n",
    "test_y, valid_y = torch.tensor(Y[:n_test], dtype=int), torch.tensor(Y[n_test:], dtype=int)\n",
    "\n",
    "# change shape ( (N, H, W, C) => (N, C, H, W) ) and send to computational device\n",
    "\n",
    "train_x = train_x.transpose(2,3).transpose(1,2).to(DEVICE)\n",
    "test_x  = test_x.transpose(2,3).transpose(1,2).to(DEVICE)\n",
    "valid_x = valid_x.transpose(2,3).transpose(1,2).to(DEVICE)\n",
    "\n",
    "print()\n",
    "print(train_x.shape)\n",
    "print(train_y.shape)\n",
    "print()\n",
    "\n",
    "print(\"number of images for training:   %10d, %10d\" % (len(train_x), len(train_y)))\n",
    "print(\"number of images for testing:    %10d, %10d\" % (len(test_x),  len(test_y)))\n",
    "print(\"number of images for validation: %10d, %10d\" % (len(valid_x), len(valid_y)))\n",
    "\n",
    "\n",
    "\n",
    "\n",
    "\n",
    "\n"
   ]
  },
  {
   "cell_type": "code",
   "execution_count": null,
   "metadata": {},
   "outputs": [],
   "source": []
  }
 ],
 "metadata": {
  "kernelspec": {
   "display_name": "Python 3",
   "language": "python",
   "name": "python3"
  },
  "language_info": {
   "codemirror_mode": {
    "name": "ipython",
    "version": 3
   },
   "file_extension": ".py",
   "mimetype": "text/x-python",
   "name": "python",
   "nbconvert_exporter": "python",
   "pygments_lexer": "ipython3",
   "version": "3.10.12"
  }
 },
 "nbformat": 4,
 "nbformat_minor": 2
}
